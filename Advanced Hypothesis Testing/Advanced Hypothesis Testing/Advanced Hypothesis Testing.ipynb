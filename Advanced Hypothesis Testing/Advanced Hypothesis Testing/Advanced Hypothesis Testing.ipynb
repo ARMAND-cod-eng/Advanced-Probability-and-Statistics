{
 "cells": [
  {
   "cell_type": "markdown",
   "id": "d88a2809",
   "metadata": {},
   "source": [
    "# Advanced Hypothesis Testing"
   ]
  },
  {
   "cell_type": "markdown",
   "id": "41e9f4a4",
   "metadata": {},
   "source": [
    "This assignment aims to enhance proficiency in statistical analysis and hypothesis testing in Python utilizing real-world datasets to conduct hypothesis tests for paired data, multiple population means, and variance comparison, cultivating a deeper understanding of the statistical method's limitation and reliability through exploring assumptions, potential consequences of violating them, and their remedies.\n",
    "\n",
    "Task 1: Paired Data Analysis\n",
    "\n",
    "   - Find a suitable dataset with paired data from a reliable source.\n",
    "   - Write a Jupyter notebook to import the dataset and perform a hypothesis test for paired data.\n",
    "   - Explain the problem, data, research question, and the appropriate statistical test that you would use to address the research question.\n",
    "   - Discuss the assumptions underlying the hypothesis test, potential consequences of violating these assumptions, and possible remedies.\n",
    "   - Propose a Python tool to assist with the interpretation of the results of the statistical test and visualizations.\n",
    "   - Record a 3- to 4-minute video explaining the analysis, results, and interpretation of the hypothesis test.\n",
    "\n",
    "Task 2: Multiple Population Means Analysis\n",
    "\n",
    "   - Find a suitable dataset with more than two populations means from a reliable source.\n",
    "   - Continuing in the same Jupyter notebook, write a code to import the dataset and perform a hypothesis test for more than two population means.\n",
    "   - Explain the problem, data, research question, and the appropriate statistical test that you would use to address the research question.\n",
    "   - Discuss the assumptions underlying the hypothesis test, potential consequences of violating these assumptions, and possible remedies.\n",
    "   - Propose a Python tool to assist with the interpretation of the results of the statistical test and visualizations.\n",
    "   - Record a 3- to 4-minute video explaining the analysis, results, and interpretation of the hypothesis test.\n",
    "\n",
    "Task 3: Variance Comparison Analysis\n",
    "\n",
    "   - Find a suitable dataset with two or more populations with variances to compare from a reliable source.\n",
    "   - Continuing in the same Jupyter notebook, write a code to import the dataset and perform a hypothesis test for variance comparison.\n",
    "   - Explain the problem, data, research question, and the appropriate statistical test that you would use to address the research question.\n",
    "   - Discuss the assumptions underlying the hypothesis test, potential consequences of violating these assumptions, and possible remedies.\n",
    "   - Propose a Python tool to assist with the interpretation of the results of the statistical test and visualizations.\n",
    "   - Record a 3- to 4-minute video explaining the analysis, results, and interpretation of the hypothesis test.\n",
    "\n",
    "Requirements:\n",
    "\n",
    "   - Jupyter notebook containing all Python code used in the tasks.\n",
    "   - Include written responses to each task prompt, using markdown cells in the same Jupyter notebook.\n",
    "   - Include visual aids to support your answers.\n",
    "   - Include the three short videos (9–12 minutes in total) explaining your work and highlighting key findings. Use an online video platform such as Loom, YouTube, or Vimeo to upload your completed videos.\n",
    "\n",
    "Deliverables:\n",
    "\n",
    "   - Submit a Jupyter notebook containing all Python code, written responses, and visual aids.\n",
    "   - Include the links to your video recordings.\n",
    "\n",
    "While APA style is not required for the body of this assignment, solid writing reflecting industry appropriate standards is expected. Remember to reference all datasets and resources according to using APA formatting guidelines, which can be found in the APA Style Guide, located in the Student Success Center.\n",
    "\n",
    "This assignment uses a rubric. Please review the rubric prior to beginning the assignment to become familiar with the expectations for successful completion.\n",
    "\n",
    "You are not required to submit this assignment to LopesWrite."
   ]
  },
  {
   "cell_type": "markdown",
   "id": "a432957f",
   "metadata": {},
   "source": [
    "## Task 1: Paired Data Analysis\n",
    "\n",
    "   We wish to conduct a hypothesis test to analyze the impact of the Affordable Care Act (ACA) on health insurance coverage using paired data from a real-world dataset. \n",
    "The dataset provides information on health insurance coverage before and after the ACA, including uninsurance rates, enrollment in different health care plans, and participation in the Medicare and Medicaid programs."
   ]
  },
  {
   "cell_type": "markdown",
   "id": "87349660",
   "metadata": {},
   "source": [
    "#### Import necessary libraries"
   ]
  },
  {
   "cell_type": "code",
   "execution_count": 1,
   "id": "c015632e",
   "metadata": {},
   "outputs": [],
   "source": [
    "import numpy as np\n",
    "from scipy import stats\n",
    "import matplotlib.pyplot as plt\n",
    "import pandas as pd"
   ]
  },
  {
   "cell_type": "markdown",
   "id": "300d768a",
   "metadata": {},
   "source": [
    "#### read the dataset"
   ]
  },
  {
   "cell_type": "code",
   "execution_count": 2,
   "id": "c7189f86",
   "metadata": {},
   "outputs": [
    {
     "data": {
      "text/html": [
       "<div>\n",
       "<style scoped>\n",
       "    .dataframe tbody tr th:only-of-type {\n",
       "        vertical-align: middle;\n",
       "    }\n",
       "\n",
       "    .dataframe tbody tr th {\n",
       "        vertical-align: top;\n",
       "    }\n",
       "\n",
       "    .dataframe thead th {\n",
       "        text-align: right;\n",
       "    }\n",
       "</style>\n",
       "<table border=\"1\" class=\"dataframe\">\n",
       "  <thead>\n",
       "    <tr style=\"text-align: right;\">\n",
       "      <th></th>\n",
       "      <th>State</th>\n",
       "      <th>Uninsured Rate (2010)</th>\n",
       "      <th>Uninsured Rate (2015)</th>\n",
       "      <th>Uninsured Rate Change (2010-2015)</th>\n",
       "      <th>Health Insurance Coverage Change (2010-2015)</th>\n",
       "      <th>Employer Health Insurance Coverage (2015)</th>\n",
       "      <th>Marketplace Health Insurance Coverage (2016)</th>\n",
       "      <th>Marketplace Tax Credits (2016)</th>\n",
       "      <th>Average Monthly Tax Credit (2016)</th>\n",
       "      <th>State Medicaid Expansion (2016)</th>\n",
       "      <th>Medicaid Enrollment (2013)</th>\n",
       "      <th>Medicaid Enrollment (2016)</th>\n",
       "      <th>Medicaid Enrollment Change (2013-2016)</th>\n",
       "      <th>Medicare Enrollment (2016)</th>\n",
       "    </tr>\n",
       "  </thead>\n",
       "  <tbody>\n",
       "    <tr>\n",
       "      <th>0</th>\n",
       "      <td>Alabama</td>\n",
       "      <td>14.6%</td>\n",
       "      <td>10.1%</td>\n",
       "      <td>-4.5%</td>\n",
       "      <td>215000</td>\n",
       "      <td>2545000</td>\n",
       "      <td>165534</td>\n",
       "      <td>152206</td>\n",
       "      <td>$310</td>\n",
       "      <td>False</td>\n",
       "      <td>799176.0</td>\n",
       "      <td>910775</td>\n",
       "      <td>111599.0</td>\n",
       "      <td>989855</td>\n",
       "    </tr>\n",
       "    <tr>\n",
       "      <th>1</th>\n",
       "      <td>Alaska</td>\n",
       "      <td>19.9%</td>\n",
       "      <td>14.9%</td>\n",
       "      <td>-5%</td>\n",
       "      <td>36000</td>\n",
       "      <td>390000</td>\n",
       "      <td>17995</td>\n",
       "      <td>16205</td>\n",
       "      <td>$750</td>\n",
       "      <td>True</td>\n",
       "      <td>122334.0</td>\n",
       "      <td>166625</td>\n",
       "      <td>44291.0</td>\n",
       "      <td>88966</td>\n",
       "    </tr>\n",
       "    <tr>\n",
       "      <th>2</th>\n",
       "      <td>Arizona</td>\n",
       "      <td>16.9%</td>\n",
       "      <td>10.8%</td>\n",
       "      <td>-6.1%</td>\n",
       "      <td>410000</td>\n",
       "      <td>3288000</td>\n",
       "      <td>179445</td>\n",
       "      <td>124346</td>\n",
       "      <td>$230</td>\n",
       "      <td>True</td>\n",
       "      <td>1201770.0</td>\n",
       "      <td>1716198</td>\n",
       "      <td>514428.0</td>\n",
       "      <td>1175624</td>\n",
       "    </tr>\n",
       "    <tr>\n",
       "      <th>3</th>\n",
       "      <td>Arkansas</td>\n",
       "      <td>17.5%</td>\n",
       "      <td>9.5%</td>\n",
       "      <td>-8%</td>\n",
       "      <td>234000</td>\n",
       "      <td>1365000</td>\n",
       "      <td>63357</td>\n",
       "      <td>56843</td>\n",
       "      <td>$306</td>\n",
       "      <td>True</td>\n",
       "      <td>556851.0</td>\n",
       "      <td>920194</td>\n",
       "      <td>363343.0</td>\n",
       "      <td>606146</td>\n",
       "    </tr>\n",
       "    <tr>\n",
       "      <th>4</th>\n",
       "      <td>California</td>\n",
       "      <td>18.5%</td>\n",
       "      <td>8.6%</td>\n",
       "      <td>-9.9%</td>\n",
       "      <td>3826000</td>\n",
       "      <td>19552000</td>\n",
       "      <td>1415428</td>\n",
       "      <td>1239893</td>\n",
       "      <td>$309</td>\n",
       "      <td>True</td>\n",
       "      <td>7755381.0</td>\n",
       "      <td>11843081</td>\n",
       "      <td>4087700.0</td>\n",
       "      <td>5829777</td>\n",
       "    </tr>\n",
       "  </tbody>\n",
       "</table>\n",
       "</div>"
      ],
      "text/plain": [
       "        State Uninsured Rate (2010) Uninsured Rate (2015)  \\\n",
       "0    Alabama                  14.6%                 10.1%   \n",
       "1     Alaska                  19.9%                 14.9%   \n",
       "2    Arizona                  16.9%                 10.8%   \n",
       "3   Arkansas                  17.5%                  9.5%   \n",
       "4  California                 18.5%                  8.6%   \n",
       "\n",
       "  Uninsured Rate Change (2010-2015)  \\\n",
       "0                            -4.5%    \n",
       "1                              -5%    \n",
       "2                            -6.1%    \n",
       "3                              -8%    \n",
       "4                            -9.9%    \n",
       "\n",
       "   Health Insurance Coverage Change (2010-2015)  \\\n",
       "0                                        215000   \n",
       "1                                         36000   \n",
       "2                                        410000   \n",
       "3                                        234000   \n",
       "4                                       3826000   \n",
       "\n",
       "   Employer Health Insurance Coverage (2015)  \\\n",
       "0                                    2545000   \n",
       "1                                     390000   \n",
       "2                                    3288000   \n",
       "3                                    1365000   \n",
       "4                                   19552000   \n",
       "\n",
       "   Marketplace Health Insurance Coverage (2016)  \\\n",
       "0                                        165534   \n",
       "1                                         17995   \n",
       "2                                        179445   \n",
       "3                                         63357   \n",
       "4                                       1415428   \n",
       "\n",
       "   Marketplace Tax Credits (2016) Average Monthly Tax Credit (2016)  \\\n",
       "0                          152206                             $310    \n",
       "1                           16205                             $750    \n",
       "2                          124346                             $230    \n",
       "3                           56843                             $306    \n",
       "4                         1239893                             $309    \n",
       "\n",
       "  State Medicaid Expansion (2016)  Medicaid Enrollment (2013)  \\\n",
       "0                           False                    799176.0   \n",
       "1                            True                    122334.0   \n",
       "2                            True                   1201770.0   \n",
       "3                            True                    556851.0   \n",
       "4                            True                   7755381.0   \n",
       "\n",
       "   Medicaid Enrollment (2016)  Medicaid Enrollment Change (2013-2016)  \\\n",
       "0                      910775                                111599.0   \n",
       "1                      166625                                 44291.0   \n",
       "2                     1716198                                514428.0   \n",
       "3                      920194                                363343.0   \n",
       "4                    11843081                               4087700.0   \n",
       "\n",
       "   Medicare Enrollment (2016)  \n",
       "0                      989855  \n",
       "1                       88966  \n",
       "2                     1175624  \n",
       "3                      606146  \n",
       "4                     5829777  "
      ]
     },
     "execution_count": 2,
     "metadata": {},
     "output_type": "execute_result"
    }
   ],
   "source": [
    "df = pd.read_csv(\"states.csv\")\n",
    "df.head()"
   ]
  },
  {
   "cell_type": "markdown",
   "id": "a527b6eb",
   "metadata": {},
   "source": [
    "#### Understand the data:\n",
    "\n",
    "\n",
    "The Affordable Care Act (ACA) is the name of the comprehensive health care reform law and its amendments, which addresses health insurance coverage, health care costs and preventive care. The law was enacted in two parts: The Patient Protection and Affordable Care Act was signed into law by President Barack Obama on March 23, 2010, and was amended by the Health Care and Education Reconciliation Act on March 30, 2010."
   ]
  },
  {
   "cell_type": "markdown",
   "id": "f8c343c4",
   "metadata": {},
   "source": [
    "#### Research Question:\n",
    "\n",
    "Does the ACA lead to a significant decrease in the uninsured rate?\n",
    "\n",
    "To answer this question, we will examine the percentage of uninsured before and after the ACA came into effect."
   ]
  },
  {
   "cell_type": "markdown",
   "id": "3910521e",
   "metadata": {},
   "source": [
    "#### Select statistical test :\n",
    "\n",
    "Since we are comparing the same group of subjects before and after an intervention (ACA implementation), the paired t-test will be the appropriate option.\n",
    "\n",
    "For this test, we will compare the percentage of uninsured in 2010 and 2015 to determine whether there is a statistically significant difference between the two. "
   ]
  },
  {
   "cell_type": "markdown",
   "id": "0f9c798c",
   "metadata": {},
   "source": [
    "### Performing the hypothesis test "
   ]
  },
  {
   "cell_type": "markdown",
   "id": "8fc11108",
   "metadata": {},
   "source": [
    "#### Python tool:\n",
    "\n",
    "To perform the paired t-test and interpret the results, we can use the Python library scipy.stats. In addition, we can use matplotlib for visualizations, such as boxplots or histograms, to compare the distribution."
   ]
  },
  {
   "cell_type": "markdown",
   "id": "36c9988c",
   "metadata": {},
   "source": [
    "#### analyze data"
   ]
  },
  {
   "cell_type": "code",
   "execution_count": 3,
   "id": "28f2f4de",
   "metadata": {},
   "outputs": [
    {
     "name": "stdout",
     "output_type": "stream",
     "text": [
      "<class 'pandas.core.frame.DataFrame'>\n",
      "RangeIndex: 52 entries, 0 to 51\n",
      "Data columns (total 14 columns):\n",
      " #   Column                                        Non-Null Count  Dtype  \n",
      "---  ------                                        --------------  -----  \n",
      " 0   State                                         52 non-null     object \n",
      " 1   Uninsured Rate (2010)                         52 non-null     object \n",
      " 2   Uninsured Rate (2015)                         52 non-null     object \n",
      " 3   Uninsured Rate Change (2010-2015)             52 non-null     object \n",
      " 4   Health Insurance Coverage Change (2010-2015)  52 non-null     int64  \n",
      " 5   Employer Health Insurance Coverage (2015)     52 non-null     int64  \n",
      " 6   Marketplace Health Insurance Coverage (2016)  52 non-null     int64  \n",
      " 7   Marketplace Tax Credits (2016)                52 non-null     int64  \n",
      " 8   Average Monthly Tax Credit (2016)             52 non-null     object \n",
      " 9   State Medicaid Expansion (2016)               51 non-null     object \n",
      " 10  Medicaid Enrollment (2013)                    50 non-null     float64\n",
      " 11  Medicaid Enrollment (2016)                    52 non-null     int64  \n",
      " 12  Medicaid Enrollment Change (2013-2016)        50 non-null     float64\n",
      " 13  Medicare Enrollment (2016)                    52 non-null     int64  \n",
      "dtypes: float64(2), int64(6), object(6)\n",
      "memory usage: 5.8+ KB\n"
     ]
    }
   ],
   "source": [
    "df.info()"
   ]
  },
  {
   "cell_type": "markdown",
   "id": "97ab30fc",
   "metadata": {},
   "source": [
    "#### we will clean the data"
   ]
  },
  {
   "cell_type": "code",
   "execution_count": 5,
   "id": "cc5c4ef3",
   "metadata": {},
   "outputs": [],
   "source": [
    "#remove units of measurement\n",
    "\n",
    "df[\"Uninsured Rate (2010)\"] = df[\"Uninsured Rate (2010)\"].str.split(pat = \"%\").str[0]\n",
    "\n",
    "df[\"Uninsured Rate (2015)\"] = df[\"Uninsured Rate (2015)\"].str.split(pat = \"%\").str[0]"
   ]
  },
  {
   "cell_type": "code",
   "execution_count": 6,
   "id": "c3f29c6d",
   "metadata": {},
   "outputs": [
    {
     "name": "stdout",
     "output_type": "stream",
     "text": [
      "<class 'pandas.core.frame.DataFrame'>\n",
      "RangeIndex: 52 entries, 0 to 51\n",
      "Data columns (total 14 columns):\n",
      " #   Column                                        Non-Null Count  Dtype  \n",
      "---  ------                                        --------------  -----  \n",
      " 0   State                                         52 non-null     object \n",
      " 1   Uninsured Rate (2010)                         52 non-null     object \n",
      " 2   Uninsured Rate (2015)                         52 non-null     object \n",
      " 3   Uninsured Rate Change (2010-2015)             52 non-null     object \n",
      " 4   Health Insurance Coverage Change (2010-2015)  52 non-null     int64  \n",
      " 5   Employer Health Insurance Coverage (2015)     52 non-null     int64  \n",
      " 6   Marketplace Health Insurance Coverage (2016)  52 non-null     int64  \n",
      " 7   Marketplace Tax Credits (2016)                52 non-null     int64  \n",
      " 8   Average Monthly Tax Credit (2016)             52 non-null     object \n",
      " 9   State Medicaid Expansion (2016)               51 non-null     object \n",
      " 10  Medicaid Enrollment (2013)                    50 non-null     float64\n",
      " 11  Medicaid Enrollment (2016)                    52 non-null     int64  \n",
      " 12  Medicaid Enrollment Change (2013-2016)        50 non-null     float64\n",
      " 13  Medicare Enrollment (2016)                    52 non-null     int64  \n",
      "dtypes: float64(2), int64(6), object(6)\n",
      "memory usage: 5.8+ KB\n"
     ]
    }
   ],
   "source": [
    "df.info()"
   ]
  },
  {
   "cell_type": "code",
   "execution_count": 7,
   "id": "e527d56e",
   "metadata": {},
   "outputs": [],
   "source": [
    "#change data types\n",
    "\n",
    "df[\"Uninsured Rate (2010)\"] = df[\"Uninsured Rate (2010)\"].astype('float')\n",
    "\n",
    "df[\"Uninsured Rate (2015)\"] = df[\"Uninsured Rate (2015)\"].astype('float')\n"
   ]
  },
  {
   "cell_type": "code",
   "execution_count": 8,
   "id": "09c918ef",
   "metadata": {},
   "outputs": [
    {
     "name": "stdout",
     "output_type": "stream",
     "text": [
      "<class 'pandas.core.frame.DataFrame'>\n",
      "RangeIndex: 52 entries, 0 to 51\n",
      "Data columns (total 14 columns):\n",
      " #   Column                                        Non-Null Count  Dtype  \n",
      "---  ------                                        --------------  -----  \n",
      " 0   State                                         52 non-null     object \n",
      " 1   Uninsured Rate (2010)                         52 non-null     float64\n",
      " 2   Uninsured Rate (2015)                         52 non-null     float64\n",
      " 3   Uninsured Rate Change (2010-2015)             52 non-null     object \n",
      " 4   Health Insurance Coverage Change (2010-2015)  52 non-null     int64  \n",
      " 5   Employer Health Insurance Coverage (2015)     52 non-null     int64  \n",
      " 6   Marketplace Health Insurance Coverage (2016)  52 non-null     int64  \n",
      " 7   Marketplace Tax Credits (2016)                52 non-null     int64  \n",
      " 8   Average Monthly Tax Credit (2016)             52 non-null     object \n",
      " 9   State Medicaid Expansion (2016)               51 non-null     object \n",
      " 10  Medicaid Enrollment (2013)                    50 non-null     float64\n",
      " 11  Medicaid Enrollment (2016)                    52 non-null     int64  \n",
      " 12  Medicaid Enrollment Change (2013-2016)        50 non-null     float64\n",
      " 13  Medicare Enrollment (2016)                    52 non-null     int64  \n",
      "dtypes: float64(4), int64(6), object(4)\n",
      "memory usage: 5.8+ KB\n"
     ]
    }
   ],
   "source": [
    "df.info()"
   ]
  },
  {
   "cell_type": "markdown",
   "id": "d4f0a940",
   "metadata": {},
   "source": [
    "### Perform paired t-test"
   ]
  },
  {
   "cell_type": "code",
   "execution_count": 9,
   "id": "670574aa",
   "metadata": {},
   "outputs": [],
   "source": [
    "before_measurements = df[\"Uninsured Rate (2010)\"]\n",
    "after_measurements = df[\"Uninsured Rate (2015)\"]\n",
    "\n",
    "# Perform paired t-test\n",
    "t_statistic, p_value = stats.ttest_rel(before_measurements, after_measurements)\n"
   ]
  },
  {
   "cell_type": "markdown",
   "id": "c6652deb",
   "metadata": {},
   "source": [
    "### Interpret results"
   ]
  },
  {
   "cell_type": "code",
   "execution_count": 10,
   "id": "599eab33",
   "metadata": {},
   "outputs": [
    {
     "name": "stdout",
     "output_type": "stream",
     "text": [
      "Paired t-test Results:\n",
      "T-Statistic: 18.575415987078056\n",
      "P-Value: 2.372908655681907e-24\n",
      "there is a significant difference between the percentage of uninsured people before and after the implementation of obama care.\n"
     ]
    }
   ],
   "source": [
    "# Print results\n",
    "print(\"Paired t-test Results:\")\n",
    "print(\"T-Statistic:\", t_statistic)\n",
    "print(\"P-Value:\", p_value)\n",
    "\n",
    "# Interpret results\n",
    "if p_value < 0.05:\n",
    "    print(\"there is a significant difference between the percentage of uninsured people before and after the implementation of obama care.\")\n",
    "else:\n",
    "    print(\"there is no  significant difference between the percentage of uninsured people before and after the implementation of obama care..\")\n"
   ]
  },
  {
   "cell_type": "markdown",
   "id": "6543692a",
   "metadata": {},
   "source": [
    "### Visualizing the Result"
   ]
  },
  {
   "cell_type": "code",
   "execution_count": 11,
   "id": "86e79191",
   "metadata": {},
   "outputs": [
    {
     "data": {
      "image/png": "[encoded data removed]",
      "text/plain": [
       "<Figure size 640x480 with 1 Axes>"
      ]
     },
     "metadata": {},
     "output_type": "display_data"
    }
   ],
   "source": [
    "# Visualize data\n",
    "plt.boxplot([before_measurements, after_measurements], labels=['2010', '2015'])\n",
    "plt.xlabel('Time Point')\n",
    "plt.ylabel('Uninsured Rate')\n",
    "plt.title('percentage of uninsured people')\n",
    "plt.show()"
   ]
  },
  {
   "cell_type": "markdown",
   "id": "530a856e",
   "metadata": {},
   "source": [
    "## Task 2: Multiple Population Means Analysis"
   ]
  },
  {
   "cell_type": "markdown",
   "id": "a9547b44",
   "metadata": {},
   "source": [
    "Multiple Population Means Analysis, often referred to as Analysis of Variance (ANOVA), is a statistical method used to compare the means of three or more populations or groups to determine if there are statistically significant differences among them."
   ]
  },
  {
   "cell_type": "code",
   "execution_count": 14,
   "id": "2e03919e",
   "metadata": {},
   "outputs": [
    {
     "data": {
      "text/html": [
       "<div>\n",
       "<style scoped>\n",
       "    .dataframe tbody tr th:only-of-type {\n",
       "        vertical-align: middle;\n",
       "    }\n",
       "\n",
       "    .dataframe tbody tr th {\n",
       "        vertical-align: top;\n",
       "    }\n",
       "\n",
       "    .dataframe thead th {\n",
       "        text-align: right;\n",
       "    }\n",
       "</style>\n",
       "<table border=\"1\" class=\"dataframe\">\n",
       "  <thead>\n",
       "    <tr style=\"text-align: right;\">\n",
       "      <th></th>\n",
       "      <th>Country Name</th>\n",
       "      <th>Country Code</th>\n",
       "      <th>Region</th>\n",
       "      <th>IncomeGroup</th>\n",
       "      <th>Year</th>\n",
       "      <th>Life Expectancy World Bank</th>\n",
       "      <th>Prevelance of Undernourishment</th>\n",
       "      <th>CO2</th>\n",
       "      <th>Health Expenditure %</th>\n",
       "      <th>Education Expenditure %</th>\n",
       "      <th>Unemployment</th>\n",
       "      <th>Corruption</th>\n",
       "      <th>Sanitation</th>\n",
       "      <th>Injuries</th>\n",
       "      <th>Communicable</th>\n",
       "      <th>NonCommunicable</th>\n",
       "    </tr>\n",
       "  </thead>\n",
       "  <tbody>\n",
       "    <tr>\n",
       "      <th>0</th>\n",
       "      <td>Afghanistan</td>\n",
       "      <td>AFG</td>\n",
       "      <td>South Asia</td>\n",
       "      <td>Low income</td>\n",
       "      <td>2001</td>\n",
       "      <td>56.308</td>\n",
       "      <td>47.8</td>\n",
       "      <td>730.0</td>\n",
       "      <td>NaN</td>\n",
       "      <td>NaN</td>\n",
       "      <td>10.809000</td>\n",
       "      <td>NaN</td>\n",
       "      <td>NaN</td>\n",
       "      <td>2179727.10</td>\n",
       "      <td>9689193.70</td>\n",
       "      <td>5795426.38</td>\n",
       "    </tr>\n",
       "    <tr>\n",
       "      <th>1</th>\n",
       "      <td>Angola</td>\n",
       "      <td>AGO</td>\n",
       "      <td>Sub-Saharan Africa</td>\n",
       "      <td>Lower middle income</td>\n",
       "      <td>2001</td>\n",
       "      <td>47.059</td>\n",
       "      <td>67.5</td>\n",
       "      <td>15960.0</td>\n",
       "      <td>4.483516</td>\n",
       "      <td>NaN</td>\n",
       "      <td>4.004000</td>\n",
       "      <td>NaN</td>\n",
       "      <td>NaN</td>\n",
       "      <td>1392080.71</td>\n",
       "      <td>11190210.53</td>\n",
       "      <td>2663516.34</td>\n",
       "    </tr>\n",
       "    <tr>\n",
       "      <th>2</th>\n",
       "      <td>Albania</td>\n",
       "      <td>ALB</td>\n",
       "      <td>Europe &amp; Central Asia</td>\n",
       "      <td>Upper middle income</td>\n",
       "      <td>2001</td>\n",
       "      <td>74.288</td>\n",
       "      <td>4.9</td>\n",
       "      <td>3230.0</td>\n",
       "      <td>7.139524</td>\n",
       "      <td>3.4587</td>\n",
       "      <td>18.575001</td>\n",
       "      <td>NaN</td>\n",
       "      <td>40.520895</td>\n",
       "      <td>117081.67</td>\n",
       "      <td>140894.78</td>\n",
       "      <td>532324.75</td>\n",
       "    </tr>\n",
       "    <tr>\n",
       "      <th>3</th>\n",
       "      <td>Andorra</td>\n",
       "      <td>AND</td>\n",
       "      <td>Europe &amp; Central Asia</td>\n",
       "      <td>High income</td>\n",
       "      <td>2001</td>\n",
       "      <td>NaN</td>\n",
       "      <td>NaN</td>\n",
       "      <td>520.0</td>\n",
       "      <td>5.865939</td>\n",
       "      <td>NaN</td>\n",
       "      <td>NaN</td>\n",
       "      <td>NaN</td>\n",
       "      <td>21.788660</td>\n",
       "      <td>1697.99</td>\n",
       "      <td>695.56</td>\n",
       "      <td>13636.64</td>\n",
       "    </tr>\n",
       "    <tr>\n",
       "      <th>4</th>\n",
       "      <td>United Arab Emirates</td>\n",
       "      <td>ARE</td>\n",
       "      <td>Middle East &amp; North Africa</td>\n",
       "      <td>High income</td>\n",
       "      <td>2001</td>\n",
       "      <td>74.544</td>\n",
       "      <td>2.8</td>\n",
       "      <td>97200.0</td>\n",
       "      <td>2.484370</td>\n",
       "      <td>NaN</td>\n",
       "      <td>2.493000</td>\n",
       "      <td>NaN</td>\n",
       "      <td>NaN</td>\n",
       "      <td>144678.14</td>\n",
       "      <td>65271.91</td>\n",
       "      <td>481740.70</td>\n",
       "    </tr>\n",
       "  </tbody>\n",
       "</table>\n",
       "</div>"
      ],
      "text/plain": [
       "           Country Name Country Code                      Region  \\\n",
       "0           Afghanistan          AFG                  South Asia   \n",
       "1                Angola          AGO          Sub-Saharan Africa   \n",
       "2               Albania          ALB       Europe & Central Asia   \n",
       "3               Andorra          AND       Europe & Central Asia   \n",
       "4  United Arab Emirates          ARE  Middle East & North Africa   \n",
       "\n",
       "           IncomeGroup  Year  Life Expectancy World Bank  \\\n",
       "0           Low income  2001                      56.308   \n",
       "1  Lower middle income  2001                      47.059   \n",
       "2  Upper middle income  2001                      74.288   \n",
       "3          High income  2001                         NaN   \n",
       "4          High income  2001                      74.544   \n",
       "\n",
       "   Prevelance of Undernourishment      CO2  Health Expenditure %  \\\n",
       "0                            47.8    730.0                   NaN   \n",
       "1                            67.5  15960.0              4.483516   \n",
       "2                             4.9   3230.0              7.139524   \n",
       "3                             NaN    520.0              5.865939   \n",
       "4                             2.8  97200.0              2.484370   \n",
       "\n",
       "   Education Expenditure %  Unemployment  Corruption  Sanitation    Injuries  \\\n",
       "0                      NaN     10.809000         NaN         NaN  2179727.10   \n",
       "1                      NaN      4.004000         NaN         NaN  1392080.71   \n",
       "2                   3.4587     18.575001         NaN   40.520895   117081.67   \n",
       "3                      NaN           NaN         NaN   21.788660     1697.99   \n",
       "4                      NaN      2.493000         NaN         NaN   144678.14   \n",
       "\n",
       "   Communicable  NonCommunicable  \n",
       "0    9689193.70       5795426.38  \n",
       "1   11190210.53       2663516.34  \n",
       "2     140894.78        532324.75  \n",
       "3        695.56         13636.64  \n",
       "4      65271.91        481740.70  "
      ]
     },
     "execution_count": 14,
     "metadata": {},
     "output_type": "execute_result"
    }
   ],
   "source": [
    "# Load the dataset\n",
    "df = pd.read_csv('life expectancy.csv')\n",
    "df.head()\n"
   ]
  },
  {
   "cell_type": "code",
   "execution_count": 15,
   "id": "d6f73468",
   "metadata": {},
   "outputs": [
    {
     "data": {
      "text/html": [
       "<div>\n",
       "<style scoped>\n",
       "    .dataframe tbody tr th:only-of-type {\n",
       "        vertical-align: middle;\n",
       "    }\n",
       "\n",
       "    .dataframe tbody tr th {\n",
       "        vertical-align: top;\n",
       "    }\n",
       "\n",
       "    .dataframe thead th {\n",
       "        text-align: right;\n",
       "    }\n",
       "</style>\n",
       "<table border=\"1\" class=\"dataframe\">\n",
       "  <thead>\n",
       "    <tr style=\"text-align: right;\">\n",
       "      <th></th>\n",
       "      <th>Country Name</th>\n",
       "      <th>Country Code</th>\n",
       "      <th>Region</th>\n",
       "      <th>IncomeGroup</th>\n",
       "      <th>Year</th>\n",
       "      <th>Life Expectancy World Bank</th>\n",
       "      <th>Prevelance of Undernourishment</th>\n",
       "      <th>CO2</th>\n",
       "      <th>Health Expenditure %</th>\n",
       "      <th>Education Expenditure %</th>\n",
       "      <th>Unemployment</th>\n",
       "      <th>Corruption</th>\n",
       "      <th>Sanitation</th>\n",
       "      <th>Injuries</th>\n",
       "      <th>Communicable</th>\n",
       "      <th>NonCommunicable</th>\n",
       "    </tr>\n",
       "  </thead>\n",
       "  <tbody>\n",
       "    <tr>\n",
       "      <th>22</th>\n",
       "      <td>Bermuda</td>\n",
       "      <td>BMU</td>\n",
       "      <td>North America</td>\n",
       "      <td>High income</td>\n",
       "      <td>2001</td>\n",
       "      <td>77.885366</td>\n",
       "      <td>NaN</td>\n",
       "      <td>NaN</td>\n",
       "      <td>NaN</td>\n",
       "      <td>NaN</td>\n",
       "      <td>NaN</td>\n",
       "      <td>NaN</td>\n",
       "      <td>NaN</td>\n",
       "      <td>1268.17</td>\n",
       "      <td>1587.90</td>\n",
       "      <td>13589.33</td>\n",
       "    </tr>\n",
       "    <tr>\n",
       "      <th>29</th>\n",
       "      <td>Canada</td>\n",
       "      <td>CAN</td>\n",
       "      <td>North America</td>\n",
       "      <td>High income</td>\n",
       "      <td>2001</td>\n",
       "      <td>79.339024</td>\n",
       "      <td>2.5</td>\n",
       "      <td>5.066200e+05</td>\n",
       "      <td>8.624824</td>\n",
       "      <td>4.95303</td>\n",
       "      <td>7.22</td>\n",
       "      <td>NaN</td>\n",
       "      <td>77.575810</td>\n",
       "      <td>818908.60</td>\n",
       "      <td>374249.31</td>\n",
       "      <td>6667095.01</td>\n",
       "    </tr>\n",
       "    <tr>\n",
       "      <th>166</th>\n",
       "      <td>United States</td>\n",
       "      <td>USA</td>\n",
       "      <td>North America</td>\n",
       "      <td>High income</td>\n",
       "      <td>2001</td>\n",
       "      <td>76.836585</td>\n",
       "      <td>2.5</td>\n",
       "      <td>5.748260e+06</td>\n",
       "      <td>13.163626</td>\n",
       "      <td>NaN</td>\n",
       "      <td>4.73</td>\n",
       "      <td>NaN</td>\n",
       "      <td>97.572103</td>\n",
       "      <td>9309465.84</td>\n",
       "      <td>5130329.57</td>\n",
       "      <td>75084511.16</td>\n",
       "    </tr>\n",
       "    <tr>\n",
       "      <th>196</th>\n",
       "      <td>Bermuda</td>\n",
       "      <td>BMU</td>\n",
       "      <td>North America</td>\n",
       "      <td>High income</td>\n",
       "      <td>2002</td>\n",
       "      <td>78.087805</td>\n",
       "      <td>NaN</td>\n",
       "      <td>NaN</td>\n",
       "      <td>NaN</td>\n",
       "      <td>NaN</td>\n",
       "      <td>NaN</td>\n",
       "      <td>NaN</td>\n",
       "      <td>NaN</td>\n",
       "      <td>1250.08</td>\n",
       "      <td>1575.91</td>\n",
       "      <td>13601.52</td>\n",
       "    </tr>\n",
       "    <tr>\n",
       "      <th>203</th>\n",
       "      <td>Canada</td>\n",
       "      <td>CAN</td>\n",
       "      <td>North America</td>\n",
       "      <td>High income</td>\n",
       "      <td>2002</td>\n",
       "      <td>79.490244</td>\n",
       "      <td>2.5</td>\n",
       "      <td>5.243500e+05</td>\n",
       "      <td>8.856704</td>\n",
       "      <td>4.99308</td>\n",
       "      <td>7.66</td>\n",
       "      <td>NaN</td>\n",
       "      <td>77.576022</td>\n",
       "      <td>820102.01</td>\n",
       "      <td>375367.89</td>\n",
       "      <td>6743004.03</td>\n",
       "    </tr>\n",
       "  </tbody>\n",
       "</table>\n",
       "</div>"
      ],
      "text/plain": [
       "      Country Name Country Code         Region  IncomeGroup  Year  \\\n",
       "22         Bermuda          BMU  North America  High income  2001   \n",
       "29          Canada          CAN  North America  High income  2001   \n",
       "166  United States          USA  North America  High income  2001   \n",
       "196        Bermuda          BMU  North America  High income  2002   \n",
       "203         Canada          CAN  North America  High income  2002   \n",
       "\n",
       "     Life Expectancy World Bank  Prevelance of Undernourishment           CO2  \\\n",
       "22                    77.885366                             NaN           NaN   \n",
       "29                    79.339024                             2.5  5.066200e+05   \n",
       "166                   76.836585                             2.5  5.748260e+06   \n",
       "196                   78.087805                             NaN           NaN   \n",
       "203                   79.490244                             2.5  5.243500e+05   \n",
       "\n",
       "     Health Expenditure %  Education Expenditure %  Unemployment  Corruption  \\\n",
       "22                    NaN                      NaN           NaN         NaN   \n",
       "29               8.624824                  4.95303          7.22         NaN   \n",
       "166             13.163626                      NaN          4.73         NaN   \n",
       "196                   NaN                      NaN           NaN         NaN   \n",
       "203              8.856704                  4.99308          7.66         NaN   \n",
       "\n",
       "     Sanitation    Injuries  Communicable  NonCommunicable  \n",
       "22          NaN     1268.17       1587.90         13589.33  \n",
       "29    77.575810   818908.60     374249.31       6667095.01  \n",
       "166   97.572103  9309465.84    5130329.57      75084511.16  \n",
       "196         NaN     1250.08       1575.91         13601.52  \n",
       "203   77.576022   820102.01     375367.89       6743004.03  "
      ]
     },
     "execution_count": 15,
     "metadata": {},
     "output_type": "execute_result"
    }
   ],
   "source": [
    "df1 = df[df[\"Region\"] == 'North America']\n",
    "df1.head()"
   ]
  },
  {
   "cell_type": "markdown",
   "id": "a9b9b17a",
   "metadata": {},
   "source": [
    "### Multiple Population Means Analysis"
   ]
  },
  {
   "cell_type": "markdown",
   "id": "b3200809",
   "metadata": {},
   "source": [
    "#### Descriptive Analysis"
   ]
  },
  {
   "cell_type": "code",
   "execution_count": 18,
   "id": "bf2c5732",
   "metadata": {},
   "outputs": [],
   "source": [
    "from scipy.stats import f_oneway\n",
    "\n",
    "# Extract data for different populations\n",
    "population1 = df1['Life Expectancy World Bank'][df1[\"Country Name\"] == 'Bermuda']  \n",
    "population2 = df1['Life Expectancy World Bank'][df1[\"Country Name\"] == 'Canada']  \n",
    "population3 = df1['Life Expectancy World Bank'][df1[\"Country Name\"] == 'United States']  "
   ]
  },
  {
   "cell_type": "code",
   "execution_count": 32,
   "id": "36a523ed",
   "metadata": {},
   "outputs": [
    {
     "data": {
      "text/plain": [
       "count    19.000000\n",
       "mean     79.927017\n",
       "std       1.386227\n",
       "min      77.885366\n",
       "25%      78.786585\n",
       "50%      79.388439\n",
       "75%      81.189878\n",
       "max      81.866585\n",
       "Name: Life Expectancy World Bank, dtype: float64"
      ]
     },
     "execution_count": 32,
     "metadata": {},
     "output_type": "execute_result"
    }
   ],
   "source": [
    "population1.describe()\n"
   ]
  },
  {
   "cell_type": "code",
   "execution_count": 33,
   "id": "700982bc",
   "metadata": {},
   "outputs": [
    {
     "data": {
      "text/plain": [
       "count    19.000000\n",
       "mean     80.996021\n",
       "std       0.935258\n",
       "min      79.339024\n",
       "25%      80.268293\n",
       "50%      81.246341\n",
       "75%      81.850000\n",
       "max      82.048780\n",
       "Name: Life Expectancy World Bank, dtype: float64"
      ]
     },
     "execution_count": 33,
     "metadata": {},
     "output_type": "execute_result"
    }
   ],
   "source": [
    "population2.describe()"
   ]
  },
  {
   "cell_type": "code",
   "execution_count": 34,
   "id": "e4aa2a70",
   "metadata": {},
   "outputs": [
    {
     "data": {
      "text/plain": [
       "count    19.000000\n",
       "mean     78.136457\n",
       "std       0.684497\n",
       "min      76.836585\n",
       "25%      77.587805\n",
       "50%      78.539024\n",
       "75%      78.665854\n",
       "max      78.841463\n",
       "Name: Life Expectancy World Bank, dtype: float64"
      ]
     },
     "execution_count": 34,
     "metadata": {},
     "output_type": "execute_result"
    }
   ],
   "source": [
    "population3.describe()"
   ]
  },
  {
   "cell_type": "markdown",
   "id": "1158942b",
   "metadata": {},
   "source": [
    "#### hypotheses : \n",
    "\n",
    "- The null hypothesis (H0) assumes that there is no significant difference in the mean life expectancy between the countries.\n",
    "\n",
    "- The alternative hypothesis(H1) suggests that at least one country has a different average life expectancy from the others."
   ]
  },
  {
   "cell_type": "code",
   "execution_count": 19,
   "id": "4c0c1b7f",
   "metadata": {},
   "outputs": [
    {
     "name": "stdout",
     "output_type": "stream",
     "text": [
      "F-Statistic: 36.44761917642268\n",
      "P-Value: 9.585344315169924e-11\n"
     ]
    }
   ],
   "source": [
    "\n",
    "# Perform ANOVA test\n",
    "f_statistic, p_value = f_oneway(population1, population2, population3)\n",
    "\n",
    "print('F-Statistic:', f_statistic)\n",
    "print('P-Value:', p_value)"
   ]
  },
  {
   "cell_type": "code",
   "execution_count": 20,
   "id": "5104c52e",
   "metadata": {},
   "outputs": [
    {
     "name": "stdout",
     "output_type": "stream",
     "text": [
      "There is a statistically significant difference in life expectancy across the selected countries.\n"
     ]
    }
   ],
   "source": [
    "# Interpret the results\n",
    "alpha = 0.05\n",
    "if p_value < alpha:\n",
    "    print('There is a statistically significant difference in life expectancy across the selected countries.')\n",
    "else:\n",
    "    print('There is no statistically significant difference in life expectancy across the selected countries.')"
   ]
  },
  {
   "cell_type": "code",
   "execution_count": null,
   "id": "b8dffec5",
   "metadata": {},
   "outputs": [],
   "source": []
  },
  {
   "cell_type": "code",
   "execution_count": 30,
   "id": "694a73e2",
   "metadata": {},
   "outputs": [
    {
     "data": {
      "text/plain": [
       "<Axes: xlabel='Country Name', ylabel='Life Expectancy World Bank'>"
      ]
     },
     "execution_count": 30,
     "metadata": {},
     "output_type": "execute_result"
    },
    {
     "data": {
      "image/png": "[encoded data removed]",
      "text/plain": [
       "<Figure size 640x480 with 1 Axes>"
      ]
     },
     "metadata": {},
     "output_type": "display_data"
    }
   ],
   "source": [
    "import seaborn as sns\n",
    "sns.boxplot(x ='Country Name', y='Life Expectancy World Bank', data= df1 )"
   ]
  },
  {
   "cell_type": "markdown",
   "id": "f5d28d80",
   "metadata": {},
   "source": [
    "### Task 3: Variance Comparison Analysis"
   ]
  },
  {
   "cell_type": "markdown",
   "id": "e1a6411f",
   "metadata": {},
   "source": [
    "Variance Comparison Analysis, also known as Variance Analysis, is a statistical technique used to compare the variances of two or more groups or populations. It is often employed in quality control, financial analysis, and experimental research to understand the variability within different groups and identify potential sources of differences."
   ]
  },
  {
   "cell_type": "code",
   "execution_count": 24,
   "id": "a0f5dc4c",
   "metadata": {},
   "outputs": [
    {
     "data": {
      "text/html": [
       "<div>\n",
       "<style scoped>\n",
       "    .dataframe tbody tr th:only-of-type {\n",
       "        vertical-align: middle;\n",
       "    }\n",
       "\n",
       "    .dataframe tbody tr th {\n",
       "        vertical-align: top;\n",
       "    }\n",
       "\n",
       "    .dataframe thead th {\n",
       "        text-align: right;\n",
       "    }\n",
       "</style>\n",
       "<table border=\"1\" class=\"dataframe\">\n",
       "  <thead>\n",
       "    <tr style=\"text-align: right;\">\n",
       "      <th></th>\n",
       "      <th>year</th>\n",
       "      <th>annual_poverty-level_wage</th>\n",
       "      <th>hourly_poverty-level_wage</th>\n",
       "      <th>0-75%_of_poverty_wages</th>\n",
       "      <th>75-100%_of_poverty_wages</th>\n",
       "      <th>share_below_poverty_wages</th>\n",
       "      <th>100-125%_of_poverty_wages</th>\n",
       "      <th>125-200%_of_poverty_wages</th>\n",
       "      <th>200-300%_of_poverty_wages</th>\n",
       "      <th>300%+_of_poverty_wages</th>\n",
       "      <th>...</th>\n",
       "      <th>women_300%+_of_poverty_wages</th>\n",
       "      <th>white_share_below_poverty_wages</th>\n",
       "      <th>white_men_share_below_poverty_wages</th>\n",
       "      <th>white_women_share_below_poverty_wages</th>\n",
       "      <th>black_share_below_poverty_wages</th>\n",
       "      <th>black_men_share_below_poverty_wages</th>\n",
       "      <th>black_women_share_below_poverty_wages</th>\n",
       "      <th>hispanic_share_below_poverty_wages</th>\n",
       "      <th>hispanic_men_share_below_poverty_wages</th>\n",
       "      <th>hispanic_women_share_below_poverty_wages</th>\n",
       "    </tr>\n",
       "  </thead>\n",
       "  <tbody>\n",
       "    <tr>\n",
       "      <th>0</th>\n",
       "      <td>2022</td>\n",
       "      <td>27733</td>\n",
       "      <td>13.33</td>\n",
       "      <td>4.7</td>\n",
       "      <td>7.5</td>\n",
       "      <td>12.2</td>\n",
       "      <td>15.2</td>\n",
       "      <td>32.7</td>\n",
       "      <td>19.5</td>\n",
       "      <td>20.4</td>\n",
       "      <td>...</td>\n",
       "      <td>16.7</td>\n",
       "      <td>10.7</td>\n",
       "      <td>8.1</td>\n",
       "      <td>13.5</td>\n",
       "      <td>16.2</td>\n",
       "      <td>14.5</td>\n",
       "      <td>17.7</td>\n",
       "      <td>15.4</td>\n",
       "      <td>12.3</td>\n",
       "      <td>19.2</td>\n",
       "    </tr>\n",
       "    <tr>\n",
       "      <th>1</th>\n",
       "      <td>2021</td>\n",
       "      <td>25688</td>\n",
       "      <td>12.35</td>\n",
       "      <td>3.8</td>\n",
       "      <td>9.1</td>\n",
       "      <td>12.9</td>\n",
       "      <td>15.0</td>\n",
       "      <td>30.3</td>\n",
       "      <td>20.4</td>\n",
       "      <td>21.5</td>\n",
       "      <td>...</td>\n",
       "      <td>17.4</td>\n",
       "      <td>11.1</td>\n",
       "      <td>8.7</td>\n",
       "      <td>13.8</td>\n",
       "      <td>18.0</td>\n",
       "      <td>15.7</td>\n",
       "      <td>19.9</td>\n",
       "      <td>16.8</td>\n",
       "      <td>14.2</td>\n",
       "      <td>20.0</td>\n",
       "    </tr>\n",
       "    <tr>\n",
       "      <th>2</th>\n",
       "      <td>2020</td>\n",
       "      <td>24544</td>\n",
       "      <td>11.80</td>\n",
       "      <td>3.4</td>\n",
       "      <td>8.6</td>\n",
       "      <td>12.0</td>\n",
       "      <td>13.0</td>\n",
       "      <td>31.5</td>\n",
       "      <td>20.8</td>\n",
       "      <td>22.6</td>\n",
       "      <td>...</td>\n",
       "      <td>18.1</td>\n",
       "      <td>10.4</td>\n",
       "      <td>7.9</td>\n",
       "      <td>13.1</td>\n",
       "      <td>18.1</td>\n",
       "      <td>15.4</td>\n",
       "      <td>20.5</td>\n",
       "      <td>14.9</td>\n",
       "      <td>12.0</td>\n",
       "      <td>18.6</td>\n",
       "    </tr>\n",
       "    <tr>\n",
       "      <th>3</th>\n",
       "      <td>2019</td>\n",
       "      <td>24242</td>\n",
       "      <td>11.65</td>\n",
       "      <td>4.4</td>\n",
       "      <td>11.3</td>\n",
       "      <td>15.7</td>\n",
       "      <td>14.2</td>\n",
       "      <td>31.2</td>\n",
       "      <td>18.7</td>\n",
       "      <td>20.3</td>\n",
       "      <td>...</td>\n",
       "      <td>16.0</td>\n",
       "      <td>13.4</td>\n",
       "      <td>10.5</td>\n",
       "      <td>16.6</td>\n",
       "      <td>22.3</td>\n",
       "      <td>19.2</td>\n",
       "      <td>24.9</td>\n",
       "      <td>19.7</td>\n",
       "      <td>15.8</td>\n",
       "      <td>24.6</td>\n",
       "    </tr>\n",
       "    <tr>\n",
       "      <th>4</th>\n",
       "      <td>2018</td>\n",
       "      <td>23809</td>\n",
       "      <td>11.45</td>\n",
       "      <td>5.0</td>\n",
       "      <td>13.0</td>\n",
       "      <td>18.1</td>\n",
       "      <td>14.2</td>\n",
       "      <td>29.3</td>\n",
       "      <td>19.1</td>\n",
       "      <td>19.4</td>\n",
       "      <td>...</td>\n",
       "      <td>15.2</td>\n",
       "      <td>15.0</td>\n",
       "      <td>11.6</td>\n",
       "      <td>18.7</td>\n",
       "      <td>26.0</td>\n",
       "      <td>23.1</td>\n",
       "      <td>28.5</td>\n",
       "      <td>24.3</td>\n",
       "      <td>19.3</td>\n",
       "      <td>30.7</td>\n",
       "    </tr>\n",
       "  </tbody>\n",
       "</table>\n",
       "<p>5 rows × 33 columns</p>\n",
       "</div>"
      ],
      "text/plain": [
       "   year  annual_poverty-level_wage  hourly_poverty-level_wage  \\\n",
       "0  2022                      27733                      13.33   \n",
       "1  2021                      25688                      12.35   \n",
       "2  2020                      24544                      11.80   \n",
       "3  2019                      24242                      11.65   \n",
       "4  2018                      23809                      11.45   \n",
       "\n",
       "   0-75%_of_poverty_wages  75-100%_of_poverty_wages  \\\n",
       "0                     4.7                       7.5   \n",
       "1                     3.8                       9.1   \n",
       "2                     3.4                       8.6   \n",
       "3                     4.4                      11.3   \n",
       "4                     5.0                      13.0   \n",
       "\n",
       "   share_below_poverty_wages  100-125%_of_poverty_wages  \\\n",
       "0                       12.2                       15.2   \n",
       "1                       12.9                       15.0   \n",
       "2                       12.0                       13.0   \n",
       "3                       15.7                       14.2   \n",
       "4                       18.1                       14.2   \n",
       "\n",
       "   125-200%_of_poverty_wages  200-300%_of_poverty_wages  \\\n",
       "0                       32.7                       19.5   \n",
       "1                       30.3                       20.4   \n",
       "2                       31.5                       20.8   \n",
       "3                       31.2                       18.7   \n",
       "4                       29.3                       19.1   \n",
       "\n",
       "   300%+_of_poverty_wages  ...  women_300%+_of_poverty_wages  \\\n",
       "0                    20.4  ...                          16.7   \n",
       "1                    21.5  ...                          17.4   \n",
       "2                    22.6  ...                          18.1   \n",
       "3                    20.3  ...                          16.0   \n",
       "4                    19.4  ...                          15.2   \n",
       "\n",
       "   white_share_below_poverty_wages  white_men_share_below_poverty_wages  \\\n",
       "0                             10.7                                  8.1   \n",
       "1                             11.1                                  8.7   \n",
       "2                             10.4                                  7.9   \n",
       "3                             13.4                                 10.5   \n",
       "4                             15.0                                 11.6   \n",
       "\n",
       "   white_women_share_below_poverty_wages  black_share_below_poverty_wages  \\\n",
       "0                                   13.5                             16.2   \n",
       "1                                   13.8                             18.0   \n",
       "2                                   13.1                             18.1   \n",
       "3                                   16.6                             22.3   \n",
       "4                                   18.7                             26.0   \n",
       "\n",
       "   black_men_share_below_poverty_wages  black_women_share_below_poverty_wages  \\\n",
       "0                                 14.5                                   17.7   \n",
       "1                                 15.7                                   19.9   \n",
       "2                                 15.4                                   20.5   \n",
       "3                                 19.2                                   24.9   \n",
       "4                                 23.1                                   28.5   \n",
       "\n",
       "   hispanic_share_below_poverty_wages  hispanic_men_share_below_poverty_wages  \\\n",
       "0                                15.4                                    12.3   \n",
       "1                                16.8                                    14.2   \n",
       "2                                14.9                                    12.0   \n",
       "3                                19.7                                    15.8   \n",
       "4                                24.3                                    19.3   \n",
       "\n",
       "   hispanic_women_share_below_poverty_wages  \n",
       "0                                      19.2  \n",
       "1                                      20.0  \n",
       "2                                      18.6  \n",
       "3                                      24.6  \n",
       "4                                      30.7  \n",
       "\n",
       "[5 rows x 33 columns]"
      ]
     },
     "execution_count": 24,
     "metadata": {},
     "output_type": "execute_result"
    }
   ],
   "source": [
    "#read the dataset\n",
    "df = pd.read_csv(\"poverty_level_wages.csv\")\n",
    "df.head()\n"
   ]
  },
  {
   "cell_type": "code",
   "execution_count": 31,
   "id": "df94efad",
   "metadata": {},
   "outputs": [
    {
     "data": {
      "text/html": [
       "<div>\n",
       "<style scoped>\n",
       "    .dataframe tbody tr th:only-of-type {\n",
       "        vertical-align: middle;\n",
       "    }\n",
       "\n",
       "    .dataframe tbody tr th {\n",
       "        vertical-align: top;\n",
       "    }\n",
       "\n",
       "    .dataframe thead th {\n",
       "        text-align: right;\n",
       "    }\n",
       "</style>\n",
       "<table border=\"1\" class=\"dataframe\">\n",
       "  <thead>\n",
       "    <tr style=\"text-align: right;\">\n",
       "      <th></th>\n",
       "      <th>white</th>\n",
       "      <th>black</th>\n",
       "      <th>hispanic</th>\n",
       "    </tr>\n",
       "  </thead>\n",
       "  <tbody>\n",
       "    <tr>\n",
       "      <th>0</th>\n",
       "      <td>10.7</td>\n",
       "      <td>16.2</td>\n",
       "      <td>15.4</td>\n",
       "    </tr>\n",
       "    <tr>\n",
       "      <th>1</th>\n",
       "      <td>11.1</td>\n",
       "      <td>18.0</td>\n",
       "      <td>16.8</td>\n",
       "    </tr>\n",
       "    <tr>\n",
       "      <th>2</th>\n",
       "      <td>10.4</td>\n",
       "      <td>18.1</td>\n",
       "      <td>14.9</td>\n",
       "    </tr>\n",
       "    <tr>\n",
       "      <th>3</th>\n",
       "      <td>13.4</td>\n",
       "      <td>22.3</td>\n",
       "      <td>19.7</td>\n",
       "    </tr>\n",
       "    <tr>\n",
       "      <th>4</th>\n",
       "      <td>15.0</td>\n",
       "      <td>26.0</td>\n",
       "      <td>24.3</td>\n",
       "    </tr>\n",
       "  </tbody>\n",
       "</table>\n",
       "</div>"
      ],
      "text/plain": [
       "   white  black  hispanic\n",
       "0   10.7   16.2      15.4\n",
       "1   11.1   18.0      16.8\n",
       "2   10.4   18.1      14.9\n",
       "3   13.4   22.3      19.7\n",
       "4   15.0   26.0      24.3"
      ]
     },
     "execution_count": 31,
     "metadata": {},
     "output_type": "execute_result"
    }
   ],
   "source": [
    "#we'll only select collones with workers earning less than the poverty level by race.\n",
    "   \n",
    "df_1 = pd.read_csv(\"poverty_level_wages.csv\", usecols=[ 'white_share_below_poverty_wages','black_share_below_poverty_wages','hispanic_share_below_poverty_wages'])\n",
    "\n",
    "df_1 = df_1.rename(columns={\"white_share_below_poverty_wages\": \"white\", \"black_share_below_poverty_wages\": \"black\", 'hispanic_share_below_poverty_wages':'hispanic'})\n",
    "\n",
    "df_1.head()\n"
   ]
  },
  {
   "cell_type": "code",
   "execution_count": 28,
   "id": "4f52e3d9",
   "metadata": {},
   "outputs": [
    {
     "name": "stdout",
     "output_type": "stream",
     "text": [
      "Levene's test statistic: 1.1748214800655694\n",
      "p-value: 0.31175701481345036\n"
     ]
    }
   ],
   "source": [
    "\n",
    "from scipy.stats import levene\n",
    "\n",
    "\n",
    "\n",
    "# Extract data for Hispanics, Blacks, and Whites\n",
    "hispanics_data = df_1['hispanic']\n",
    "blacks_data = df_1['black']\n",
    "whites_data = df_1['white']\n",
    "\n",
    "# Perform Levene's test for variance comparison\n",
    "statistic, p_value = levene(hispanics_data, blacks_data, whites_data)\n",
    "print(\"Levene's test statistic:\", statistic)\n",
    "print(\"p-value:\", p_value)"
   ]
  },
  {
   "cell_type": "markdown",
   "id": "81a78130",
   "metadata": {},
   "source": [
    "This means that there is insufficient evidence to conclude that there are significant differences in variance between the revenues of different ethnic groups."
   ]
  },
  {
   "cell_type": "code",
   "execution_count": 35,
   "id": "82b972cc",
   "metadata": {},
   "outputs": [
    {
     "name": "stderr",
     "output_type": "stream",
     "text": [
      "C:\\Users\\ARMAND\\AppData\\Local\\Temp\\ipykernel_11872\\2225134348.py:9: RuntimeWarning: Second argument 'white' is ambiguous: could be a format string but is in 'data'; using as data.  If it was intended as data, set the format string to an empty string to suppress this warning.  If it was intended as a format string, explicitly pass the x-values as well.  Alternatively, rename the entry in 'data'.\n",
      "  plt.plot('year', 'white', data= df_2)\n",
      "C:\\Users\\ARMAND\\AppData\\Local\\Temp\\ipykernel_11872\\2225134348.py:10: RuntimeWarning: Second argument 'black' is ambiguous: could be a format string but is in 'data'; using as data.  If it was intended as data, set the format string to an empty string to suppress this warning.  If it was intended as a format string, explicitly pass the x-values as well.  Alternatively, rename the entry in 'data'.\n",
      "  plt.plot('year',  'black', data= df_2)\n",
      "C:\\Users\\ARMAND\\anaconda3\\Lib\\site-packages\\seaborn\\axisgrid.py:118: UserWarning: The figure layout has changed to tight\n",
      "  self._figure.tight_layout(*args, **kwargs)\n"
     ]
    },
    {
     "data": {
      "text/plain": [
       "<seaborn.axisgrid.FacetGrid at 0x26d365381d0>"
      ]
     },
     "execution_count": 35,
     "metadata": {},
     "output_type": "execute_result"
    },
    {
     "data": {
      "image/png": "[encoded data removed]",
      "text/plain": [
       "<Figure size 640x480 with 1 Axes>"
      ]
     },
     "metadata": {},
     "output_type": "display_data"
    },
    {
     "data": {
      "image/png": "[encoded data removed]",
      "text/plain": [
       "<Figure size 500x500 with 1 Axes>"
      ]
     },
     "metadata": {},
     "output_type": "display_data"
    }
   ],
   "source": [
    "#we'll only select collones with workers earning less than the poverty level by race.\n",
    "   \n",
    "\n",
    "df_2 = pd.read_csv(\"poverty_level_wages.csv\", usecols=[ 'year','white_share_below_poverty_wages','black_share_below_poverty_wages','hispanic_share_below_poverty_wages'])\n",
    "\n",
    "df_2 = df_2.rename(columns={\"white_share_below_poverty_wages\": \"white\", \"black_share_below_poverty_wages\": \"black\", 'hispanic_share_below_poverty_wages':'hispanic'})\n",
    "\n",
    "\n",
    "plt.plot('year', 'white', data= df_2)\n",
    "plt.plot('year',  'black', data= df_2)\n",
    "plt.plot( 'year', 'hispanic', data= df_2)\n",
    "plt.legend()\n",
    "\n",
    "#s\n",
    "sns.catplot(df_1, kind = 'box')"
   ]
  },
  {
   "cell_type": "markdown",
   "id": "ad7671f0",
   "metadata": {},
   "source": [
    "If we consider the average over the last 50 years, Hispanics earn less than the poverty level, but if we look at the evolution over time, we notice that between 2018 and 2022, it's blacks who earn less than the poverty level."
   ]
  },
  {
   "cell_type": "code",
   "execution_count": null,
   "id": "74ba5f64",
   "metadata": {},
   "outputs": [],
   "source": []
  }
 ],
 "metadata": {
  "kernelspec": {
   "display_name": "Python 3 (ipykernel)",
   "language": "python",
   "name": "python3"
  },
  "language_info": {
   "codemirror_mode": {
    "name": "ipython",
    "version": 3
   },
   "file_extension": ".py",
   "mimetype": "text/x-python",
   "name": "python",
   "nbconvert_exporter": "python",
   "pygments_lexer": "ipython3",
   "version": "3.11.5"
  }
 },
 "nbformat": 4,
 "nbformat_minor": 5
}
